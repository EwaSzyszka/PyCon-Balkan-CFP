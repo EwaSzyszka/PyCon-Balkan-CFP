{
 "cells": [
  {
   "cell_type": "code",
   "execution_count": 1,
   "metadata": {
    "collapsed": true
   },
   "outputs": [],
   "source": [
    "import numpy as np\n",
    "import os\n",
    "import cv2\n",
    "import matplotlib.pyplot as plt\n",
    "import random\n",
    "import pickle\n",
    "%matplotlib inline "
   ]
  },
  {
   "cell_type": "code",
   "execution_count": 3,
   "metadata": {
    "collapsed": false
   },
   "outputs": [
    {
     "name": "stdout",
     "output_type": "stream",
     "text": [
      "7\n",
      "[[227 222 239 ..., 254 254 254]\n",
      " [237 248 251 ..., 254 254 254]\n",
      " [216 165 127 ..., 254 254 254]\n",
      " ..., \n",
      " [137 135 143 ...,  43  45  22]\n",
      " [110 102  84 ...,  60  28  27]\n",
      " [ 76  58  56 ...,  90  59  38]]\n",
      "0\n",
      "[[165 161 150 ...,  20  26  34]\n",
      " [154 147 140 ...,  22  28  36]\n",
      " [150 139 132 ...,  21  23  30]\n",
      " ..., \n",
      " [183 186 189 ...,  11   8   6]\n",
      " [184 186 188 ...,  17  15  19]\n",
      " [189 191 188 ...,  10   8  10]]\n",
      "22\n",
      "[[ 95 145  53 ..., 177 135  16]\n",
      " [183 147 139 ..., 155  97  20]\n",
      " [224 206 178 ..., 143  93  17]\n",
      " ..., \n",
      " [185 183 183 ...,   5   6   8]\n",
      " [175 180 181 ...,   5   5   7]\n",
      " [172 175 175 ...,   4   4   6]]\n",
      "16\n",
      "[[114 115 106 ..., 165 245 248]\n",
      " [167 170 170 ..., 116 175 170]\n",
      " [ 90  84  77 ...,  78 177 177]\n",
      " ..., \n",
      " [ 48  26  29 ...,  22  18  18]\n",
      " [ 54  48  31 ...,  14  21  17]\n",
      " [ 60  24 126 ...,  15  15  18]]\n",
      "17\n",
      "[[46 45 52 ..., 19 19 20]\n",
      " [55 52 53 ..., 20 20 20]\n",
      " [65 62 56 ..., 21 21 22]\n",
      " ..., \n",
      " [ 8  8  7 ..., 19 16 17]\n",
      " [ 8  8  6 ..., 18 17 18]\n",
      " [10 10  7 ..., 21 19 19]]\n",
      "5\n",
      "[[ 56  52  99 ..., 191 184 181]\n",
      " [ 51  62 176 ..., 160 146 133]\n",
      " [ 41  89 205 ...,  83  96  80]\n",
      " ..., \n",
      " [226 227 244 ...,  19  18  16]\n",
      " [228 228 225 ...,  20  19  15]\n",
      " [239 244 246 ...,  18  17  14]]\n",
      "17\n",
      "[[ 95 101 108 ...,  32  32  29]\n",
      " [ 59  74  87 ...,  32  33  29]\n",
      " [ 45  62  79 ...,  33  31  29]\n",
      " ..., \n",
      " [ 68  41  35 ...,   9  14  32]\n",
      " [ 39  42  41 ...,   9  11  18]\n",
      " [ 45  45  43 ...,   9  10   9]]\n",
      "16\n",
      "[[179 180 181 ..., 205 205 201]\n",
      " [182 182 181 ..., 208 208 208]\n",
      " [182 181 183 ..., 239 240 243]\n",
      " ..., \n",
      " [101 103 105 ..., 186 228 226]\n",
      " [145 144 145 ..., 199 224 225]\n",
      " [122 122 120 ..., 187 229 224]]\n",
      "20\n",
      "[[ 54  49  43 ..., 170 169 167]\n",
      " [ 53  52  42 ..., 167 166 166]\n",
      " [ 66  51  45 ..., 156 155 158]\n",
      " ..., \n",
      " [184 140  38 ...,   6  10  13]\n",
      " [192 160  66 ...,  23   7  10]\n",
      " [190 151  65 ...,  40   7  13]]\n",
      "19\n",
      "[[253 253 253 ..., 254 254 254]\n",
      " [252 252 252 ..., 254 254 254]\n",
      " [252 252 252 ..., 254 254 254]\n",
      " ..., \n",
      " [ 76  75  75 ...,  30  26  31]\n",
      " [ 75  72  73 ...,  14  17  17]\n",
      " [ 76  73  69 ...,   8   4   7]]\n"
     ]
    }
   ],
   "source": [
    "\n",
    "#_____ SETTING THE DATA PATH ______\n",
    "DATADIR = \"/Users/ewa_anna_szyszka/Desktop/ImageRecognition/data\"\n",
    "\n",
    "#_____ CATEGORIES OF CLASSES ______\n",
    "CATEGORIES = [\"A\", \"B\", \"C\", \"D\", \"E\",\"F\", \"G\", \"H\", \"I\", \"J\",\"K\", \"L\", \"M\",'N','O','P','R','S','T','U','W','X','Y','Z']\n",
    "\n",
    "\n",
    "#_____ SETTING UP THE TRAINING DATA ______\n",
    "IMG_SIZE = 50\n",
    "\n",
    "training_data = []\n",
    "\n",
    "def create_training_data():\n",
    "    for category in CATEGORIES:\n",
    "        path = os.path.join(DATADIR, category)\n",
    "        class_num = CATEGORIES.index(category)  #the category encoading\n",
    "        for img in os.listdir(path):\n",
    "            try:\n",
    "                img_array = cv2.imread(os.path.join(path, img), cv2.IMREAD_GRAYSCALE)\n",
    "                new_array = cv2.resize(img_array, (IMG_SIZE, IMG_SIZE))\n",
    "                training_data.append([new_array,class_num])  #[image, category]\n",
    "            except Exception as e:\n",
    "                pass\n",
    "            #plt.imshow(img_array, cmap='gray')\n",
    "            #plt.show()\n",
    "\n",
    "create_training_data()\n",
    "\n",
    "#___ SHUFFLING THE DATA TO IMPROVE THE TRAINING QUALITY _____\n",
    "random.shuffle(training_data)\n",
    "\n",
    "\n",
    "for sample in training_data[:10]:\n",
    "    print(sample[1])\n",
    "    print(sample[0])\n",
    "\n",
    "\n",
    "X = [] #feature set\n",
    "y = [] #labels\n",
    "\n",
    "\n",
    "for features, label in training_data:\n",
    "    X.append(features)\n",
    "    y.append(label)\n",
    "\n",
    "X = np.array(X).reshape(-1,IMG_SIZE,IMG_SIZE, 1) # 1 because it is a gray scale\n"
   ]
  },
  {
   "cell_type": "code",
   "execution_count": 4,
   "metadata": {
    "collapsed": false
   },
   "outputs": [
    {
     "name": "stdout",
     "output_type": "stream",
     "text": [
      "ready\n"
     ]
    }
   ],
   "source": [
    "\n",
    "pickle_out = open(\"X.pickle\",'wb')\n",
    "pickle.dump(X,pickle_out)\n",
    "pickle_out.close()\n",
    "\n",
    "pickle_out= open(\"y.pickle\",'wb')\n",
    "pickle.dump(y,pickle_out)\n",
    "pickle_out.close()\n",
    "\n",
    "\n",
    "pickle_in = open(\"X.pickle\",'rb')\n",
    "print('ready')\n",
    "X = pickle.load(pickle_in)\n"
   ]
  },
  {
   "cell_type": "code",
   "execution_count": 9,
   "metadata": {
    "collapsed": false
   },
   "outputs": [
    {
     "data": {
      "text/plain": [
       "17"
      ]
     },
     "execution_count": 9,
     "metadata": {},
     "output_type": "execute_result"
    }
   ],
   "source": [
    "X[1]\n",
    "y[4]"
   ]
  },
  {
   "cell_type": "code",
   "execution_count": 11,
   "metadata": {
    "collapsed": false
   },
   "outputs": [
    {
     "ename": "ImportError",
     "evalue": "No module named keras.models",
     "output_type": "error",
     "traceback": [
      "\u001b[0;31m---------------------------------------------------------------------------\u001b[0m",
      "\u001b[0;31mImportError\u001b[0m                               Traceback (most recent call last)",
      "\u001b[0;32m<ipython-input-11-9f5beeec5bc5>\u001b[0m in \u001b[0;36m<module>\u001b[0;34m()\u001b[0m\n\u001b[1;32m      1\u001b[0m \u001b[0;32mimport\u001b[0m \u001b[0mtensorflow\u001b[0m \u001b[0;32mas\u001b[0m \u001b[0mtf\u001b[0m\u001b[0;34m\u001b[0m\u001b[0m\n\u001b[0;32m----> 2\u001b[0;31m \u001b[0;32mfrom\u001b[0m \u001b[0mtensorflow\u001b[0m\u001b[0;34m.\u001b[0m\u001b[0mkeras\u001b[0m\u001b[0;34m.\u001b[0m\u001b[0mmodels\u001b[0m \u001b[0;32mimport\u001b[0m \u001b[0mSequential\u001b[0m\u001b[0;34m\u001b[0m\u001b[0m\n\u001b[0m",
      "\u001b[0;31mImportError\u001b[0m: No module named keras.models"
     ]
    }
   ],
   "source": [
    "import tensorflow as tf\n",
    "from tensorflow.keras.models import Sequential "
   ]
  }
 ],
 "metadata": {
  "kernelspec": {
   "display_name": "Python [Root]",
   "language": "python",
   "name": "Python [Root]"
  },
  "language_info": {
   "codemirror_mode": {
    "name": "ipython",
    "version": 2
   },
   "file_extension": ".py",
   "mimetype": "text/x-python",
   "name": "python",
   "nbconvert_exporter": "python",
   "pygments_lexer": "ipython2",
   "version": "2.7.6"
  }
 },
 "nbformat": 4,
 "nbformat_minor": 0
}
